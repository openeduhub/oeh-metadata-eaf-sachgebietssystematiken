{
 "cells": [
  {
   "cell_type": "markdown",
   "metadata": {},
   "source": [
    "# Convert xlsx file to txt file"
   ]
  },
  {
   "cell_type": "code",
   "execution_count": null,
   "metadata": {},
   "outputs": [],
   "source": [
    "import re\n",
    "import pandas as pd\n",
    "from rdflib import Graph, Literal, Namespace, RDF, URIRef\n",
    "from rdflib.namespace import SKOS, DCTERMS"
   ]
  },
  {
   "cell_type": "code",
   "execution_count": null,
   "metadata": {},
   "outputs": [],
   "source": [
    "with open('sachgebietssystematik.txt', 'w') as file:\n",
    "    pd.read_excel('2019-03-29-Suchbegriff_Sachgebietssystematik-AG-MuD-Version.xlsx').to_string(file, index=False)"
   ]
  },
  {
   "cell_type": "code",
   "execution_count": null,
   "metadata": {},
   "outputs": [],
   "source": [
    "class Node:\n",
    "    def __init__(self, _id=None, prefLabel=None, note=None):\n",
    "        self.id = _id\n",
    "        self.prefLabel = prefLabel\n",
    "        self.note = note\n",
    "        self.children = []\n",
    "    def __repr__(self):\n",
    "        return self.prefLabel"
   ]
  },
  {
   "cell_type": "code",
   "execution_count": null,
   "metadata": {},
   "outputs": [],
   "source": [
    "txt = open('sachgebietssystematik.txt').readlines()\n",
    "txt_clean = []\n",
    "for line in txt:\n",
    "    line = line.replace('\\n', '')\n",
    "    if line == '':\n",
    "        continue\n",
    "    txt_clean.append(line)"
   ]
  },
  {
   "cell_type": "code",
   "execution_count": null,
   "metadata": {
    "tags": [
     "outputPrepend"
    ]
   },
   "outputs": [],
   "source": [
    "data = []\n",
    "text_id = re.compile(r\"\\d\\d\\d(\\s\\d\\d)*[^\\d\\d.]\")\n",
    "#text_label = re.compile(r\"(\\d\\d\\d(\\s\\d\\d)*[^\\d\\d.])(([\\u00C0-\\u017FA-Za-z0-9,;'.-]+)\\s)+\")\n",
    "text_label = re.compile(r\"(\\d\\d\\d(\\s\\d\\d)*[^\\d\\d.])(([\\/ÄäÖöÜüßA-Za-z0-9,;'.-]+)\\s)+\")\n",
    "# re.search(text_label, string).group()\n",
    "text_note = re.compile(r\"(\\s[\\u00C0-\\u017FA-Za-z0-9,.;'-]+)+(\\s)*$\", re.DOTALL)\n",
    "\n",
    "\n",
    "for i, item in enumerate(txt_clean[1:]):\n",
    "    try:\n",
    "        d = {}\n",
    "        \n",
    "        d['id'] = re.search(text_id, item).group().strip()\n",
    "        d['prefLabel'] = re.sub(re.search(text_id, item).group(), '', re.search(text_label, item).group()).strip()\n",
    "        d['note'] = re.search(text_note, item).group().split(\";\")\n",
    "        #d['note'] = ''\n",
    "        level = len(d['id'].split(' ')) -1\n",
    "        d['level'] = level\n",
    "        d['id'] = d['id'].replace(' ', '')\n",
    "        data.append(d)\n",
    "    except AttributeError:\n",
    "        print(i)\n",
    "        print(f\"Error parsing: {d['id']}\")\n",
    "        print(f\"Error parsing: {d['note']}\")"
   ]
  },
  {
   "cell_type": "code",
   "execution_count": null,
   "metadata": {},
   "outputs": [],
   "source": [
    "root = Node()\n",
    "\n",
    "try:\n",
    "    for record in data:\n",
    "        last = root\n",
    "        for _ in range(record['level']):\n",
    "            last = last.children[-1]\n",
    "        last.children.append(Node(record['id'], record['prefLabel'], record['note']))\n",
    "except IndexError:\n",
    "    pass\n"
   ]
  },
  {
   "cell_type": "code",
   "execution_count": null,
   "metadata": {},
   "outputs": [],
   "source": [
    "def print_tree(root, depth=0):\n",
    "    for child in root.children:\n",
    "        print('  ' * depth + '%r' % child)\n",
    "        print_tree(child, depth + 1)"
   ]
  },
  {
   "cell_type": "code",
   "execution_count": null,
   "metadata": {},
   "outputs": [],
   "source": [
    "#print(print_tree(root))"
   ]
  },
  {
   "cell_type": "code",
   "execution_count": null,
   "metadata": {},
   "outputs": [],
   "source": [
    "name_systematik = 'EAF-Sachgebietssystematik'\n",
    "filename = 'eaf-sachgebietssystematik'\n",
    "g = Graph()\n",
    "n = Namespace(\"http://openeduhub.github.io/oeh-metadata-vocabs-playground/\" + filename + \"/\")\n",
    "\n",
    "category = URIRef(n)\n",
    "\n",
    "title = Literal(name_systematik, lang=\"de\")\n",
    "description = Literal(name_systematik, lang=\"de\")\n",
    "creator = Literal(\"<https://creator.com>\")\n",
    "\n",
    "# Add triples using store's add method.\n",
    "g.add( (category, RDF.type, SKOS.ConceptScheme) )\n",
    "g.add( (category, DCTERMS.title, title) )\n",
    "g.add( (category, DCTERMS.description, description) )\n",
    "g.add( (category, DCTERMS.creator, creator) )\n",
    "\n",
    "# define relevant predicates\n",
    "\n",
    "narrower = 'http://www.w3.org/2004/02/skos/core#narrower'\n",
    "broader = 'http://www.w3.org/2004/02/skos/core#broader'\n",
    "topConceptOf = 'http://www.w3.org/2004/02/skos/core#topConceptOf'\n",
    "note = 'http://www.w3.org/2004/02/skos/core#note'\n",
    "\n",
    "\n",
    "def add_items(root):\n",
    "    for item in root.children:\n",
    "\n",
    "        node = n + URIRef(item.id)\n",
    "        node_prefLabel = Literal(item.prefLabel, lang=\"de\")\n",
    "        \n",
    "\n",
    "        g.add( (node, RDF.type, SKOS.Concept) )\n",
    "        g.add( (node, SKOS.prefLabel, node_prefLabel))\n",
    "        \n",
    "        for note in item.note:\n",
    "            if note.strip() == \"\":\n",
    "                continue\n",
    "            node_note = Literal(note.strip(), lang=\"de\")\n",
    "            g.add( (node, SKOS.note, node_note))\n",
    "        \n",
    "        g.add( (node, SKOS.inScheme, category))\n",
    "        \n",
    "        if item.children != []:\n",
    "            for child in item.children:\n",
    "                g.add( (node, SKOS.narrower, n + URIRef(child.id)))\n",
    "                g.add( (n + URIRef(child.id), SKOS.broader, node))\n",
    "\n",
    "        add_items(item)\n",
    "            \n",
    "add_items(root)\n",
    "\n",
    "for child in root.children:\n",
    "    node = n + URIRef(child.id)\n",
    "    g.add( (category, SKOS.hasTopConcept, node))\n",
    "    g.add( (node, SKOS.topConceptOf, category ))\n",
    "\n",
    "# Bind a few prefix, namespace pairs for more readable output\n",
    "g.bind(\"dct\", DCTERMS)\n",
    "g.bind(\"skos\", SKOS)\n",
    "\n",
    "output = g.serialize(format='turtle', base=n).decode(\"utf-8\")\n",
    "\n",
    "with open(filename + '.ttl', 'w') as f:\n",
    "    f.write(output)\n",
    "    f.close()"
   ]
  },
  {
   "cell_type": "code",
   "execution_count": null,
   "metadata": {},
   "outputs": [],
   "source": [
    "total_number = 0\n",
    "for s,p,o in g.triples((None, None, SKOS.Concept)):\n",
    "    total_number += 1\n",
    "print(total_number)\n",
    "\n",
    "len(txt_clean[1:])"
   ]
  },
  {
   "cell_type": "code",
   "execution_count": null,
   "metadata": {},
   "outputs": [],
   "source": []
  }
 ],
 "metadata": {
  "kernelspec": {
   "display_name": "eaf-sachgebietssystematik",
   "language": "python",
   "name": "eaf-sachgebietssystematik"
  },
  "language_info": {
   "codemirror_mode": {
    "name": "ipython",
    "version": 3
   },
   "file_extension": ".py",
   "mimetype": "text/x-python",
   "name": "python",
   "nbconvert_exporter": "python",
   "pygments_lexer": "ipython3",
   "version": "3.8.6"
  }
 },
 "nbformat": 4,
 "nbformat_minor": 4
}
